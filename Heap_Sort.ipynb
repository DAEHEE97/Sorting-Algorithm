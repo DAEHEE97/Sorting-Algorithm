{
 "cells": [
  {
   "cell_type": "markdown",
   "metadata": {},
   "source": [
    "# Heap Sort\n",
    "\n",
    "- n개의 노드에 대한 완전 이진 트리를 구성한다. 이때 루트 노드부터 부모노드, 왼쪽 자식노드, 오른쪽 자식노드 순으로 구성한다.\n",
    "\n",
    "\n",
    "- **최대 힙(MAX Heap)**을 구성한다.\n",
    "\n",
    "최대 힙이란 부모노드가 자식노드보다 큰 트리를 말하는데, 단말 노드를 자식노드로 가진 부모노드부터 구성하며 아래부터 루트까지 올라오며 순차적으로 만들어 갈 수 있다.\n",
    "\n",
    "\n",
    "- 가장 큰 수(루트에 위치)를 가장 작은 수와 교환한다.\n",
    "\n",
    "\n",
    "- 두번째 과정과 세번째 과정을 반복한다.\n",
    "\n",
    "\n",
    "힙 정렬은 일반적인 경우 ${\\displaystyle O(n\\log n)}$의 시간복잡도를 가진다."
   ]
  },
  {
   "cell_type": "markdown",
   "metadata": {},
   "source": [
    "## Src - Heap_Sort"
   ]
  },
  {
   "cell_type": "code",
   "execution_count": 1,
   "metadata": {},
   "outputs": [],
   "source": [
    "# Heap Sort in python\n",
    "\n",
    "def heapify(lst, n, i):\n",
    "\n",
    "    # Find largest among root and children\n",
    "    \n",
    "    largest = i\n",
    "    l = 2 * i + 1\n",
    "    r = 2 * i + 2\n",
    "  \n",
    "    if l < n and lst[i] < lst[l]:\n",
    "        largest = l\n",
    "  \n",
    "    if r < n and lst[largest] < lst[r]:\n",
    "        largest = r\n",
    "  \n",
    "    # If root is not largest, swap with largest and continue heapifying\n",
    "    if largest != i:\n",
    "        lst[i], lst[largest] = lst[largest], lst[i]\n",
    "        heapify(lst, n, largest)\n",
    "  \n",
    "  \n",
    "def heap_sort(lst):\n",
    "    \n",
    "    n = len(lst)\n",
    "    \n",
    "    # Build max heap\n",
    "    for i in range(n//2, -1, -1):\n",
    "        heapify(lst, n, i)\n",
    "  \n",
    "\n",
    "    for i in range(n-1, 0, -1):\n",
    "        \n",
    "        lst[i], lst[0] = lst[0], lst[i] # SWAP\n",
    "        \n",
    "        heapify(lst, i, 0)    # Heapify root element\n"
   ]
  },
  {
   "cell_type": "code",
   "execution_count": 2,
   "metadata": {},
   "outputs": [
    {
     "name": "stdout",
     "output_type": "stream",
     "text": [
      "[1, 2, 3, 4, 5]\n"
     ]
    }
   ],
   "source": [
    "data = [5, 4, 3, 2, 1]\n",
    "heap_sort(data)\n",
    "print(data)"
   ]
  },
  {
   "cell_type": "markdown",
   "metadata": {},
   "source": [
    "## Create dataset"
   ]
  },
  {
   "cell_type": "code",
   "execution_count": 3,
   "metadata": {},
   "outputs": [],
   "source": [
    "import random\n",
    "    \n",
    "def create_input_data(lst):\n",
    "    \n",
    "    data_asc = sorted(lst).copy()\n",
    "    \n",
    "    random.shuffle(lst)\n",
    "    rdm_data = lst\n",
    "    \n",
    "    data_desc = sorted(lst,reverse = True).copy()\n",
    "\n",
    "\n",
    "    return data_asc, rdm_data, data_desc\n",
    "\n",
    "data = []\n",
    "\n",
    "for i in range(5,20 + 1):\n",
    "    data.append(2**i)\n",
    "\n",
    "# list를 value로 가지는 Tuple\n",
    "data = create_input_data(data)"
   ]
  },
  {
   "cell_type": "code",
   "execution_count": 4,
   "metadata": {},
   "outputs": [
    {
     "name": "stdout",
     "output_type": "stream",
     "text": [
      "data 0 : [32, 64, 128, 256, 512, 1024, 2048, 4096, 8192, 16384, 32768, 65536, 131072, 262144, 524288, 1048576]\n",
      "\n",
      "data 1 : [65536, 131072, 2048, 64, 512, 32768, 524288, 1048576, 128, 256, 16384, 4096, 262144, 8192, 1024, 32]\n",
      "\n",
      "data 2 : [1048576, 524288, 262144, 131072, 65536, 32768, 16384, 8192, 4096, 2048, 1024, 512, 256, 128, 64, 32]\n",
      "\n"
     ]
    }
   ],
   "source": [
    "for i in range(3):\n",
    "    print(\"data {0} : {1}\".format(i,data[i]),end = '\\n\\n')"
   ]
  },
  {
   "cell_type": "markdown",
   "metadata": {},
   "source": [
    "## 수행시간 측정"
   ]
  },
  {
   "cell_type": "code",
   "execution_count": 5,
   "metadata": {},
   "outputs": [
    {
     "name": "stdout",
     "output_type": "stream",
     "text": [
      "정렬된 데이터 : 0.00011420249938964844\n",
      "랜덤 정렬된 데이터 : 9.512901306152344e-05\n",
      "역정렬된 데이터 : 8.606910705566406e-05\n"
     ]
    }
   ],
   "source": [
    "import time\n",
    "\n",
    "start_time0 = time.time() # 수행시간 측정\n",
    "heap_sort(data[0])\n",
    "end_time0 = time.time() # 측정 종료\n",
    "\n",
    "\n",
    "start_time1 = time.time() # 수행시간 측정\n",
    "heap_sort(data[1])\n",
    "end_time1 = time.time() # 측정 종료\n",
    "\n",
    "\n",
    "start_time2 = time.time() # 수행시간 측정\n",
    "heap_sort(data[2])\n",
    "end_time2 = time.time() # 측정 종료\n",
    "\n",
    "\n",
    "print(\"정렬된 데이터 :\", end_time0 - start_time0) # 수행 시간 출력\n",
    "\n",
    "print(\"랜덤 정렬된 데이터 :\", end_time1 - start_time1) # 수행 시간 출력\n",
    "\n",
    "print(\"역정렬된 데이터 :\", end_time2 - start_time2) # 수행 시간 출력\n",
    "\n",
    "\n",
    "process_time_asc = end_time0 - start_time0\n",
    "\n",
    "process_time_rdm = end_time1 - start_time1\n",
    "\n",
    "process_time_desc = end_time2 - start_time2\n",
    "\n"
   ]
  },
  {
   "cell_type": "markdown",
   "metadata": {},
   "source": [
    "## Ploting"
   ]
  },
  {
   "cell_type": "code",
   "execution_count": 6,
   "metadata": {},
   "outputs": [
    {
     "data": {
      "image/png": "[encoded data removed]",
      "text/plain": [
       "<Figure size 432x288 with 1 Axes>"
      ]
     },
     "metadata": {
      "needs_background": "light"
     },
     "output_type": "display_data"
    }
   ],
   "source": [
    "import matplotlib.pyplot as plt\n",
    "import numpy as np\n",
    "\n",
    "x = np.arange(3)\n",
    "\n",
    "\n",
    "values = [process_time_asc,process_time_rdm, process_time_desc]\n",
    "\n",
    "plt.bar(x, values,color = ['r', 'g', 'b'])\n",
    "\n",
    "xticks = ['asc', 'rdm', 'desc']\n",
    "\n",
    "plt.xticks(x, xticks)\n",
    "\n",
    "plt.xlabel('Data')\n",
    "plt.ylabel('Time')\n",
    "\n",
    "plt.yscale('log')\n",
    "\n",
    "plt.title('Comparison of execution time', fontsize=15)\n",
    "\n",
    "plt.show()"
   ]
  },
  {
   "cell_type": "markdown",
   "metadata": {},
   "source": [
    "## result\n",
    "\n",
    "- **역 정렬 데이터, 랜덤 정렬된 데이터, 정렬된 데이터 순으로 빠르게 정렬 되었습니다.**\n",
    "\n"
   ]
  },
  {
   "cell_type": "markdown",
   "metadata": {},
   "source": [
    "## Heap Sort Applications\n",
    "\n",
    "- Systems concerned with security and embedded systems such as Linux Kernel use Heap Sort because of the $O(n log n)$ upper bound on Heapsort's running time and constant $O(1)$ upper bound on its auxiliary storage.\n",
    "\n",
    "\n",
    "- Although Heap Sort has $O(n log n)$ time complexity even for the worst case, it doesn't have more applications ( compared to other sorting algorithms like Quick Sort, Merge Sort ). \n",
    "\n",
    "\n",
    "- However, its underlying data structure, heap, can be efficiently used if we want to extract the smallest (or largest) from the list of items without the overhead of keeping the remaining items in the sorted order. For e.g Priority Queues."
   ]
  }
 ],
 "metadata": {
  "hide_input": false,
  "kernelspec": {
   "display_name": "Python 3",
   "language": "python",
   "name": "python3"
  },
  "language_info": {
   "codemirror_mode": {
    "name": "ipython",
    "version": 3
   },
   "file_extension": ".py",
   "mimetype": "text/x-python",
   "name": "python",
   "nbconvert_exporter": "python",
   "pygments_lexer": "ipython3",
   "version": "3.8.5"
  },
  "toc": {
   "base_numbering": 1,
   "nav_menu": {},
   "number_sections": true,
   "sideBar": true,
   "skip_h1_title": false,
   "title_cell": "Table of Contents",
   "title_sidebar": "Contents",
   "toc_cell": false,
   "toc_position": {},
   "toc_section_display": true,
   "toc_window_display": false
  }
 },
 "nbformat": 4,
 "nbformat_minor": 4
}
