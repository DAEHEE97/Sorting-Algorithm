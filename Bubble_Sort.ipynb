{
 "cells": [
  {
   "cell_type": "markdown",
   "metadata": {},
   "source": [
    "# Bubble Sort\n",
    "\n",
    "\n",
    "- 버블 정렬(bubble sort)은 *처리되지 않은 데이터들 중에서 인접한 두 데이터를 비교하며 정렬 처리*\n",
    "\n",
    "\n",
    "시간 복잡도가 $O(n^{2})$로 상당히 느리지만, 코드가 단순하기 때문에 자주 사용된다\n",
    "\n"
   ]
  },
  {
   "cell_type": "markdown",
   "metadata": {},
   "source": [
    "## Src - Bubble_Sort\n",
    "\n",
    "\n",
    "- step i 수행시, biggest 데이터를 하나씩 처리\n",
    "\n",
    "\n",
    "- **i가 증가하면서 j는 감소**\n",
    "\n"
   ]
  },
  {
   "cell_type": "code",
   "execution_count": 1,
   "metadata": {},
   "outputs": [],
   "source": [
    "def bubble_sort(lst):\n",
    "    \n",
    "    n = len(lst)\n",
    "    \n",
    "    # step n-1 회\n",
    "    for i in range(0, n - 1):\n",
    "        \n",
    "        # idx n-i -1 을 한 후, j와 j+1을 비교하며 모든 데이터 비교 \n",
    "        for j in range(0, n - i - 1):\n",
    "                        \n",
    "            if lst[j] > lst[j+1]:\n",
    "                \n",
    "                lst[j],lst[j+1] = lst[j+1],lst[j] # SWAP\n",
    "                "
   ]
  },
  {
   "cell_type": "code",
   "execution_count": 2,
   "metadata": {},
   "outputs": [
    {
     "data": {
      "text/plain": [
       "[1, 2, 3, 4, 5]"
      ]
     },
     "execution_count": 2,
     "metadata": {},
     "output_type": "execute_result"
    }
   ],
   "source": [
    "data = [2, 4, 5, 1, 3]\n",
    "bubble_sort(data)\n",
    "data"
   ]
  },
  {
   "cell_type": "markdown",
   "metadata": {},
   "source": [
    "## Create dataset"
   ]
  },
  {
   "cell_type": "code",
   "execution_count": 3,
   "metadata": {},
   "outputs": [],
   "source": [
    "import random\n",
    "    \n",
    "def create_input_data(lst):\n",
    "    \n",
    "    data_asc = sorted(lst).copy()\n",
    "    \n",
    "    random.shuffle(lst)\n",
    "    rdm_data = lst\n",
    "    \n",
    "    data_desc = sorted(lst,reverse = True).copy()\n",
    "\n",
    "\n",
    "    return data_asc, rdm_data, data_desc\n",
    "\n",
    "data = []\n",
    "\n",
    "for i in range(5,20 + 1):\n",
    "    data.append(2**i)\n",
    "\n",
    "# list를 value로 가지는 Tuple\n",
    "data = create_input_data(data)"
   ]
  },
  {
   "cell_type": "code",
   "execution_count": 4,
   "metadata": {},
   "outputs": [
    {
     "name": "stdout",
     "output_type": "stream",
     "text": [
      "data 0 : [32, 64, 128, 256, 512, 1024, 2048, 4096, 8192, 16384, 32768, 65536, 131072, 262144, 524288, 1048576]\n",
      "\n",
      "data 1 : [256, 2048, 524288, 16384, 512, 131072, 128, 262144, 64, 32, 4096, 1024, 1048576, 65536, 32768, 8192]\n",
      "\n",
      "data 2 : [1048576, 524288, 262144, 131072, 65536, 32768, 16384, 8192, 4096, 2048, 1024, 512, 256, 128, 64, 32]\n",
      "\n"
     ]
    }
   ],
   "source": [
    "for i in range(3):\n",
    "    print(\"data {0} : {1}\".format(i,data[i]),end = '\\n\\n')"
   ]
  },
  {
   "cell_type": "markdown",
   "metadata": {},
   "source": [
    "## 수행시간 측정"
   ]
  },
  {
   "cell_type": "code",
   "execution_count": 5,
   "metadata": {},
   "outputs": [
    {
     "name": "stdout",
     "output_type": "stream",
     "text": [
      "정렬된 데이터 : 8.702278137207031e-05\n",
      "랜덤 정렬된 데이터 : 8.58306884765625e-05\n",
      "역정렬된 데이터 : 9.107589721679688e-05\n"
     ]
    }
   ],
   "source": [
    "import time\n",
    "\n",
    "start_time0 = time.time() # 수행시간 측정\n",
    "bubble_sort(data[0])\n",
    "end_time0 = time.time() # 측정 종료\n",
    "\n",
    "\n",
    "start_time1 = time.time() # 수행시간 측정\n",
    "bubble_sort(data[1])\n",
    "end_time1 = time.time() # 측정 종료\n",
    "\n",
    "\n",
    "start_time2 = time.time() # 수행시간 측정\n",
    "bubble_sort(data[2])\n",
    "end_time2 = time.time() # 측정 종료\n",
    "\n",
    "\n",
    "print(\"정렬된 데이터 :\", end_time0 - start_time0) # 수행 시간 출력\n",
    "\n",
    "print(\"랜덤 정렬된 데이터 :\", end_time1 - start_time1) # 수행 시간 출력\n",
    "\n",
    "print(\"역정렬된 데이터 :\", end_time2 - start_time2) # 수행 시간 출력\n",
    "\n",
    "\n",
    "process_time_asc = end_time0 - start_time0\n",
    "\n",
    "process_time_rdm = end_time1 - start_time1\n",
    "\n",
    "process_time_desc = end_time2 - start_time2\n",
    "\n"
   ]
  },
  {
   "cell_type": "markdown",
   "metadata": {},
   "source": [
    "## Ploting"
   ]
  },
  {
   "cell_type": "code",
   "execution_count": 6,
   "metadata": {},
   "outputs": [
    {
     "data": {
      "image/png": "[encoded data removed]",
      "text/plain": [
       "<Figure size 432x288 with 1 Axes>"
      ]
     },
     "metadata": {
      "needs_background": "light"
     },
     "output_type": "display_data"
    }
   ],
   "source": [
    "import matplotlib.pyplot as plt\n",
    "import numpy as np\n",
    "\n",
    "x = np.arange(3)\n",
    "\n",
    "\n",
    "values = [process_time_asc,process_time_rdm, process_time_desc]\n",
    "\n",
    "plt.bar(x, values,color = ['r', 'g', 'b'])\n",
    "\n",
    "xticks = ['asc', 'rdm', 'desc']\n",
    "plt.xticks(x, xticks)\n",
    "\n",
    "plt.xlabel('Data')\n",
    "plt.ylabel('Time')\n",
    "plt.yscale('log')\n",
    "\n",
    "plt.title('Comparison of execution time', fontsize=15)\n",
    "\n",
    "plt.show()"
   ]
  },
  {
   "cell_type": "markdown",
   "metadata": {},
   "source": [
    "## result\n",
    "\n",
    "- **랜덤 정렬된 데이터, 정렬된 데이터, 역 정렬 데이터 순으로 빠르게 정렬 되었습니다.**\n"
   ]
  },
  {
   "cell_type": "markdown",
   "metadata": {},
   "source": [
    "## Bubble Sort Applications\n",
    "\n",
    "Bubble sort is used if\n",
    "\n",
    "\n",
    "- complexity does not matter\n",
    "\n",
    "\n",
    "- short and simple code is preferred"
   ]
  }
 ],
 "metadata": {
  "hide_input": false,
  "kernelspec": {
   "display_name": "Python 3",
   "language": "python",
   "name": "python3"
  },
  "language_info": {
   "codemirror_mode": {
    "name": "ipython",
    "version": 3
   },
   "file_extension": ".py",
   "mimetype": "text/x-python",
   "name": "python",
   "nbconvert_exporter": "python",
   "pygments_lexer": "ipython3",
   "version": "3.8.5"
  },
  "toc": {
   "base_numbering": 1,
   "nav_menu": {},
   "number_sections": true,
   "sideBar": true,
   "skip_h1_title": false,
   "title_cell": "Table of Contents",
   "title_sidebar": "Contents",
   "toc_cell": false,
   "toc_position": {},
   "toc_section_display": true,
   "toc_window_display": false
  }
 },
 "nbformat": 4,
 "nbformat_minor": 4
}
