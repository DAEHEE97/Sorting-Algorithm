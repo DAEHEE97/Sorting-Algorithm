{
 "cells": [
  {
   "cell_type": "markdown",
   "metadata": {},
   "source": [
    "# Shell Sort\n",
    "\n",
    "\n",
    "- 먼저 서로 멀리 떨어져 있는 요소를 정렬하고, 정렬할 요소 사이의 간격을 순차적으로 줄입니다.\n",
    "\n",
    "\n",
    "- 요소들 사이의 간격은 Shell's original sequence(N/2, N/4, N/8 ...1)에 기초하여 감소시킵니다.\n",
    "\n",
    "\n",
    "- 위 과정을 반복하여 삽입 정렬\n",
    "\n",
    "\n",
    "\n",
    "셸 정렬은 간격 사이에 있는 요소를 검사하지 않기 때문에 불안정한 정렬 알고리즘 입니다.\n"
   ]
  },
  {
   "cell_type": "markdown",
   "metadata": {},
   "source": [
    "## Src - Shell_Sort"
   ]
  },
  {
   "cell_type": "code",
   "execution_count": 1,
   "metadata": {},
   "outputs": [],
   "source": [
    "def shell_sort(lst, n):\n",
    "\n",
    "    # Rearrange elements at each n/2, n/4, n/8, ... intervals\n",
    "    interval = n // 2\n",
    "    \n",
    "    while interval > 0:\n",
    "        \n",
    "        for i in range(interval, n):\n",
    "            temp = lst[i]\n",
    "            j = i\n",
    "            \n",
    "            while j >= interval and lst[j - interval] > temp:\n",
    "                \n",
    "                lst[j] = lst[j - interval]\n",
    "                j -= interval\n",
    "\n",
    "            lst[j] = temp\n",
    "        interval //= 2"
   ]
  },
  {
   "cell_type": "code",
   "execution_count": 2,
   "metadata": {},
   "outputs": [
    {
     "name": "stdout",
     "output_type": "stream",
     "text": [
      "[1, 2, 3, 4, 5]\n"
     ]
    }
   ],
   "source": [
    "data = [5, 4, 3, 2, 1]\n",
    "shell_sort(data, len(data))\n",
    "print(data)"
   ]
  },
  {
   "cell_type": "markdown",
   "metadata": {},
   "source": [
    "## Create dataset"
   ]
  },
  {
   "cell_type": "code",
   "execution_count": 3,
   "metadata": {},
   "outputs": [],
   "source": [
    "import random\n",
    "    \n",
    "def create_input_data(lst):\n",
    "    \n",
    "    data_asc = sorted(lst).copy()\n",
    "    \n",
    "    random.shuffle(lst)\n",
    "    rdm_data = lst\n",
    "    \n",
    "    data_desc = sorted(lst,reverse = True).copy()\n",
    "\n",
    "\n",
    "    return data_asc, rdm_data, data_desc\n",
    "\n",
    "data = []\n",
    "\n",
    "for i in range(5,20 + 1):\n",
    "    data.append(2**i)\n",
    "\n",
    "# list를 value로 가지는 Tuple\n",
    "data = create_input_data(data)"
   ]
  },
  {
   "cell_type": "code",
   "execution_count": 4,
   "metadata": {},
   "outputs": [
    {
     "name": "stdout",
     "output_type": "stream",
     "text": [
      "data 0 : [32, 64, 128, 256, 512, 1024, 2048, 4096, 8192, 16384, 32768, 65536, 131072, 262144, 524288, 1048576]\n",
      "\n",
      "data 1 : [524288, 262144, 256, 1048576, 32, 4096, 32768, 16384, 1024, 131072, 65536, 2048, 64, 8192, 128, 512]\n",
      "\n",
      "data 2 : [1048576, 524288, 262144, 131072, 65536, 32768, 16384, 8192, 4096, 2048, 1024, 512, 256, 128, 64, 32]\n",
      "\n"
     ]
    }
   ],
   "source": [
    "for i in range(3):\n",
    "    print(\"data {0} : {1}\".format(i,data[i]),end = '\\n\\n')"
   ]
  },
  {
   "cell_type": "markdown",
   "metadata": {},
   "source": [
    "## 수행시간 측정"
   ]
  },
  {
   "cell_type": "code",
   "execution_count": 5,
   "metadata": {},
   "outputs": [
    {
     "name": "stdout",
     "output_type": "stream",
     "text": [
      "정렬된 데이터 : 8.58306884765625e-05\n",
      "랜덤 정렬된 데이터 : 7.987022399902344e-05\n",
      "역정렬된 데이터 : 7.605552673339844e-05\n"
     ]
    }
   ],
   "source": [
    "import time\n",
    "\n",
    "start_time0 = time.time() # 수행시간 측정\n",
    "shell_sort(data[0], len(data[0]))\n",
    "end_time0 = time.time() # 측정 종료\n",
    "\n",
    "\n",
    "start_time1 = time.time() # 수행시간 측정\n",
    "shell_sort(data[1], len(data[1]))\n",
    "end_time1 = time.time() # 측정 종료\n",
    "\n",
    "\n",
    "start_time2 = time.time() # 수행시간 측정\n",
    "shell_sort(data[2], len(data[2]))\n",
    "end_time2 = time.time() # 측정 종료\n",
    "\n",
    "\n",
    "print(\"정렬된 데이터 :\", end_time0 - start_time0) # 수행 시간 출력\n",
    "\n",
    "print(\"랜덤 정렬된 데이터 :\", end_time1 - start_time1) # 수행 시간 출력\n",
    "\n",
    "print(\"역정렬된 데이터 :\", end_time2 - start_time2) # 수행 시간 출력\n",
    "\n",
    "\n",
    "process_time_asc = end_time0 - start_time0\n",
    "\n",
    "process_time_rdm = end_time1 - start_time1\n",
    "\n",
    "process_time_desc = end_time2 - start_time2\n",
    "\n"
   ]
  },
  {
   "cell_type": "markdown",
   "metadata": {},
   "source": [
    "## Ploting"
   ]
  },
  {
   "cell_type": "code",
   "execution_count": 9,
   "metadata": {},
   "outputs": [
    {
     "data": {
      "image/png": "[encoded data removed]",
      "text/plain": [
       "<Figure size 432x288 with 1 Axes>"
      ]
     },
     "metadata": {
      "needs_background": "light"
     },
     "output_type": "display_data"
    }
   ],
   "source": [
    "import matplotlib.pyplot as plt\n",
    "import numpy as np\n",
    "\n",
    "x = np.arange(3)\n",
    "\n",
    "\n",
    "values = [process_time_asc,process_time_rdm, process_time_desc]\n",
    "\n",
    "plt.bar(x, values,color = ['r', 'g', 'b'])\n",
    "\n",
    "xticks = ['asc', 'rdm', 'desc']\n",
    "plt.xticks(x, xticks)\n",
    "\n",
    "plt.xlabel('Data')\n",
    "plt.ylabel('Time')\n",
    "plt.yscale('log')\n",
    "\n",
    "plt.title('Comparison of execution time', fontsize=15)\n",
    "\n",
    "plt.show()"
   ]
  },
  {
   "cell_type": "markdown",
   "metadata": {},
   "source": [
    "## result\n",
    "\n",
    "- **역 정렬 데이터, 랜덤 정렬된 데이터, 정렬된 데이터 순으로 빠르게 정렬 되었습니다.**"
   ]
  },
  {
   "cell_type": "markdown",
   "metadata": {},
   "source": [
    "## Shell Sort Applications\n",
    "\n",
    "Shell sort is used when:\n",
    "\n",
    "\n",
    "- Insertion sort does not perform well when the close elements are far apart. \n",
    "\n",
    "\n",
    "- Shell sort helps in reducing the distance between the close elements. \n",
    "\n",
    "\n",
    "- Thus, there will be less number of swappings to be performed.\n",
    "\n"
   ]
  }
 ],
 "metadata": {
  "hide_input": false,
  "kernelspec": {
   "display_name": "Python 3",
   "language": "python",
   "name": "python3"
  },
  "language_info": {
   "codemirror_mode": {
    "name": "ipython",
    "version": 3
   },
   "file_extension": ".py",
   "mimetype": "text/x-python",
   "name": "python",
   "nbconvert_exporter": "python",
   "pygments_lexer": "ipython3",
   "version": "3.8.5"
  },
  "toc": {
   "base_numbering": 1,
   "nav_menu": {},
   "number_sections": true,
   "sideBar": true,
   "skip_h1_title": false,
   "title_cell": "Table of Contents",
   "title_sidebar": "Contents",
   "toc_cell": false,
   "toc_position": {},
   "toc_section_display": true,
   "toc_window_display": false
  }
 },
 "nbformat": 4,
 "nbformat_minor": 4
}
