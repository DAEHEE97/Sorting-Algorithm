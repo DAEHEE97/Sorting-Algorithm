{
 "cells": [
  {
   "cell_type": "markdown",
   "metadata": {},
   "source": [
    "# Insertion Sort\n",
    "\n",
    "- **처리되지 않은 데이터를 하나씩 골라 적절한 위치에 삽입합**니다.\n",
    "\n",
    "\n",
    "- **첫번째 데이터는 정렬되어 있다고 판단**하고\n",
    "\n",
    "\n",
    "- **두번째 데이터 부터 차례대로 앞의 데이터 들과 비교하며**, 앞 뒤 위치를 찾습니다.\n",
    "\n",
    "\n",
    "- 선택 정렬에 비해 구현 난이도가 높은 편이지만, 일반적으로 더 효율적으로 동작합니다."
   ]
  },
  {
   "cell_type": "markdown",
   "metadata": {},
   "source": [
    "## Src - Insertion-Sort"
   ]
  },
  {
   "cell_type": "code",
   "execution_count": 1,
   "metadata": {},
   "outputs": [],
   "source": [
    "def insert_sort(lst):\n",
    "    \n",
    "    n = len(lst)\n",
    "    \n",
    "    for i in range(1, n): # 두번째 데이터 부터 끝까지 *첫번째 데이터는 정렬되어 있다고 판단\n",
    "        \n",
    "        for j in range(i,0,-1): # i 부터 맨앞 제외하고 대신 * j-1 비교\n",
    "            \n",
    "            #print(\"step\",i,\"compare idx {0} with idx {1}\".format(j,j-1) )\n",
    "                \n",
    "            if lst[j] < lst[j-1]: # 자기보다 앞 데이터가 크면 SWAP * 자기가 앞 데이터 보다 작으면 SWAP\n",
    "                lst[j], lst[j-1] = lst[j-1], lst[j]\n",
    "                \n",
    "            else:                 # 앞의 데이터가 나보다 작으면 다음(i+1) 데이터 처리\n",
    "                break\n",
    "                \n",
    "                "
   ]
  },
  {
   "cell_type": "code",
   "execution_count": 2,
   "metadata": {},
   "outputs": [
    {
     "name": "stdout",
     "output_type": "stream",
     "text": [
      "[1, 2, 3, 4, 5]\n"
     ]
    }
   ],
   "source": [
    "data = [5, 4, 3, 2, 1]\n",
    "insert_sort(data)\n",
    "print(data)"
   ]
  },
  {
   "cell_type": "markdown",
   "metadata": {},
   "source": [
    "## Create dataset"
   ]
  },
  {
   "cell_type": "code",
   "execution_count": 3,
   "metadata": {},
   "outputs": [],
   "source": [
    "import random\n",
    "    \n",
    "def create_input_data(lst):\n",
    "    \n",
    "    data_asc = sorted(lst).copy()\n",
    "    \n",
    "    random.shuffle(lst)\n",
    "    rdm_data = lst\n",
    "    \n",
    "    data_desc = sorted(lst,reverse = True).copy()\n",
    "\n",
    "\n",
    "    return data_asc, rdm_data, data_desc\n",
    "\n",
    "data = []\n",
    "\n",
    "for i in range(5,20 + 1):\n",
    "    data.append(2**i)\n",
    "\n",
    "# list를 value로 가지는 Tuple\n",
    "data = create_input_data(data)"
   ]
  },
  {
   "cell_type": "code",
   "execution_count": 4,
   "metadata": {},
   "outputs": [
    {
     "name": "stdout",
     "output_type": "stream",
     "text": [
      "data 0 : [32, 64, 128, 256, 512, 1024, 2048, 4096, 8192, 16384, 32768, 65536, 131072, 262144, 524288, 1048576]\n",
      "\n",
      "data 1 : [16384, 64, 2048, 128, 32, 1024, 131072, 262144, 4096, 65536, 524288, 1048576, 8192, 256, 512, 32768]\n",
      "\n",
      "data 2 : [1048576, 524288, 262144, 131072, 65536, 32768, 16384, 8192, 4096, 2048, 1024, 512, 256, 128, 64, 32]\n",
      "\n"
     ]
    }
   ],
   "source": [
    "for i in range(3):\n",
    "    print(\"data {0} : {1}\".format(i,data[i]),end = '\\n\\n')"
   ]
  },
  {
   "cell_type": "markdown",
   "metadata": {},
   "source": [
    "## 수행시간 측정"
   ]
  },
  {
   "cell_type": "code",
   "execution_count": 5,
   "metadata": {},
   "outputs": [
    {
     "name": "stdout",
     "output_type": "stream",
     "text": [
      "정렬된 데이터 : 8.392333984375e-05\n",
      "랜덤 정렬된 데이터 : 8.106231689453125e-05\n",
      "역정렬된 데이터 : 9.703636169433594e-05\n"
     ]
    }
   ],
   "source": [
    "import time\n",
    "\n",
    "start_time0 = time.time() # 수행시간 측정\n",
    "insert_sort(data[0])\n",
    "end_time0 = time.time() # 측정 종료\n",
    "\n",
    "\n",
    "start_time1 = time.time() # 수행시간 측정\n",
    "insert_sort(data[1])\n",
    "end_time1 = time.time() # 측정 종료\n",
    "\n",
    "\n",
    "start_time2 = time.time() # 수행시간 측정\n",
    "insert_sort(data[2])\n",
    "end_time2 = time.time() # 측정 종료\n",
    "\n",
    "\n",
    "print(\"정렬된 데이터 :\", end_time0 - start_time0) # 수행 시간 출력\n",
    "\n",
    "print(\"랜덤 정렬된 데이터 :\", end_time1 - start_time1) # 수행 시간 출력\n",
    "\n",
    "print(\"역정렬된 데이터 :\", end_time2 - start_time2) # 수행 시간 출력\n",
    "\n",
    "\n",
    "process_time_asc = end_time0 - start_time0\n",
    "\n",
    "process_time_rdm = end_time1 - start_time1\n",
    "\n",
    "process_time_desc = end_time2 - start_time2\n",
    "\n"
   ]
  },
  {
   "cell_type": "markdown",
   "metadata": {},
   "source": [
    "## Ploting"
   ]
  },
  {
   "cell_type": "code",
   "execution_count": 6,
   "metadata": {},
   "outputs": [
    {
     "data": {
      "image/png": "[encoded data removed]",
      "text/plain": [
       "<Figure size 432x288 with 1 Axes>"
      ]
     },
     "metadata": {
      "needs_background": "light"
     },
     "output_type": "display_data"
    }
   ],
   "source": [
    "import matplotlib.pyplot as plt\n",
    "import numpy as np\n",
    "\n",
    "x = np.arange(3)\n",
    "\n",
    "\n",
    "values = [process_time_asc,process_time_rdm, process_time_desc]\n",
    "\n",
    "plt.bar(x, values,color = ['r', 'g', 'b'])\n",
    "\n",
    "xticks = ['asc', 'rdm', 'desc']\n",
    "plt.xticks(x, xticks)\n",
    "\n",
    "plt.xlabel('Data')\n",
    "plt.ylabel('Time')\n",
    "plt.yscale('log')\n",
    "\n",
    "plt.title('Comparison of execution time', fontsize=15)\n",
    "\n",
    "plt.show()"
   ]
  },
  {
   "cell_type": "markdown",
   "metadata": {},
   "source": [
    "## result\n",
    "\n",
    "- **랜덤 정렬된 데이터, 정렬된 데이터 ,역 정렬 데이터 순으로 빠르게 정렬 되었습니다.**\n"
   ]
  },
  {
   "cell_type": "markdown",
   "metadata": {},
   "source": [
    "## Insertion Sort Applications\n",
    "\n",
    "The insertion sort is used when:\n",
    "\n",
    "- the array is has a small number of elements\n",
    "\n",
    "\n",
    "- there are only a few elements left to be sorted"
   ]
  }
 ],
 "metadata": {
  "hide_input": false,
  "kernelspec": {
   "display_name": "Python 3",
   "language": "python",
   "name": "python3"
  },
  "language_info": {
   "codemirror_mode": {
    "name": "ipython",
    "version": 3
   },
   "file_extension": ".py",
   "mimetype": "text/x-python",
   "name": "python",
   "nbconvert_exporter": "python",
   "pygments_lexer": "ipython3",
   "version": "3.8.5"
  },
  "toc": {
   "base_numbering": 1,
   "nav_menu": {},
   "number_sections": true,
   "sideBar": true,
   "skip_h1_title": false,
   "title_cell": "Table of Contents",
   "title_sidebar": "Contents",
   "toc_cell": false,
   "toc_position": {},
   "toc_section_display": true,
   "toc_window_display": false
  }
 },
 "nbformat": 4,
 "nbformat_minor": 4
}
