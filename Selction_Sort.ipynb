{
 "cells": [
  {
   "cell_type": "markdown",
   "metadata": {},
   "source": [
    "# Selction_Sort\n",
    "\n",
    "\n",
    "\n",
    "- 처리되지 않은 데이터 중에서 **가장 작은 데이터를 선택 하여 맨 앞에 있는 데이터와 바꾸는 것을 반복** 합니다.\n",
    "\n",
    "\n",
    "- 맨 처음 위치를 뺀 나머지 리스트를 같은 방법으로 교체합니다.\n",
    "\n"
   ]
  },
  {
   "cell_type": "markdown",
   "metadata": {},
   "source": [
    "## Src - Selction_Sort\n",
    "\n",
    "- step i 수행 및 min_idx도 1씩 증가하면서 smallest 처리\n"
   ]
  },
  {
   "cell_type": "code",
   "execution_count": 1,
   "metadata": {},
   "outputs": [],
   "source": [
    "def selction_sort(lst):\n",
    "    \n",
    "    n = len(lst)\n",
    "    \n",
    "    # step n-1 회 + min_idx 0 1 2 3 \n",
    "    for i in range(0, n - 1): \n",
    "        \n",
    "        min_idx = i           \n",
    "        \n",
    "        for j in range(i + 1, n): # j = i + 1 처리하여  i 다음부터 n처리하여, 모든 데이터 탐색\n",
    "            \n",
    "            if lst[j] < lst[min_idx]: # i + 1 부터 n -1 까지 (전체) 비교하여 값이 제일 작은 idx 반환\n",
    "                min_idx = j\n",
    "\n",
    "        lst[i], lst[min_idx] = lst[min_idx], lst[i]  # SWAP 찾은 최솟값을 i번 위치로\n",
    "\n",
    "\n"
   ]
  },
  {
   "cell_type": "code",
   "execution_count": 2,
   "metadata": {},
   "outputs": [
    {
     "data": {
      "text/plain": [
       "[1, 2, 3, 4, 5]"
      ]
     },
     "execution_count": 2,
     "metadata": {},
     "output_type": "execute_result"
    }
   ],
   "source": [
    "data = [2, 4, 5, 1, 3]\n",
    "selction_sort(data)\n",
    "data"
   ]
  },
  {
   "cell_type": "markdown",
   "metadata": {},
   "source": [
    "## Create dataset"
   ]
  },
  {
   "cell_type": "code",
   "execution_count": 3,
   "metadata": {},
   "outputs": [],
   "source": [
    "import random\n",
    "    \n",
    "def create_input_data(lst):\n",
    "    \n",
    "    data_asc = sorted(lst).copy()\n",
    "    \n",
    "    random.shuffle(lst)\n",
    "    rdm_data = lst\n",
    "    \n",
    "    data_desc = sorted(lst,reverse = True).copy()\n",
    "\n",
    "\n",
    "    return data_asc, rdm_data, data_desc\n",
    "\n",
    "data = []\n",
    "\n",
    "for i in range(5,20 + 1):\n",
    "    data.append(2**i)\n",
    "\n",
    "# list를 value로 가지는 Tuple\n",
    "data = create_input_data(data)"
   ]
  },
  {
   "cell_type": "code",
   "execution_count": 4,
   "metadata": {},
   "outputs": [
    {
     "name": "stdout",
     "output_type": "stream",
     "text": [
      "data 0 : [32, 64, 128, 256, 512, 1024, 2048, 4096, 8192, 16384, 32768, 65536, 131072, 262144, 524288, 1048576]\n",
      "\n",
      "data 1 : [16384, 8192, 262144, 1024, 4096, 512, 1048576, 32, 2048, 128, 64, 256, 32768, 131072, 65536, 524288]\n",
      "\n",
      "data 2 : [1048576, 524288, 262144, 131072, 65536, 32768, 16384, 8192, 4096, 2048, 1024, 512, 256, 128, 64, 32]\n",
      "\n"
     ]
    }
   ],
   "source": [
    "for i in range(3):\n",
    "    print(\"data {0} : {1}\".format(i,data[i]),end = '\\n\\n')"
   ]
  },
  {
   "cell_type": "markdown",
   "metadata": {},
   "source": [
    "## 수행시간 측정"
   ]
  },
  {
   "cell_type": "code",
   "execution_count": 5,
   "metadata": {},
   "outputs": [
    {
     "name": "stdout",
     "output_type": "stream",
     "text": [
      "정렬된 데이터 : 9.179115295410156e-05\n",
      "랜덤 정렬된 데이터 : 8.0108642578125e-05\n",
      "역정렬된 데이터 : 7.605552673339844e-05\n"
     ]
    }
   ],
   "source": [
    "import time\n",
    "\n",
    "start_time0 = time.time() # 수행시간 측정\n",
    "selction_sort(data[0])\n",
    "end_time0 = time.time() # 측정 종료\n",
    "\n",
    "\n",
    "start_time1 = time.time() # 수행시간 측정\n",
    "selction_sort(data[1])\n",
    "end_time1 = time.time() # 측정 종료\n",
    "\n",
    "\n",
    "start_time2 = time.time() # 수행시간 측정\n",
    "selction_sort(data[2])\n",
    "end_time2 = time.time() # 측정 종료\n",
    "\n",
    "\n",
    "print(\"정렬된 데이터 :\", end_time0 - start_time0) # 수행 시간 출력\n",
    "\n",
    "print(\"랜덤 정렬된 데이터 :\", end_time1 - start_time1) # 수행 시간 출력\n",
    "\n",
    "print(\"역정렬된 데이터 :\", end_time2 - start_time2) # 수행 시간 출력\n",
    "\n",
    "\n",
    "process_time_asc = end_time0 - start_time0\n",
    "\n",
    "process_time_rdm = end_time1 - start_time1\n",
    "\n",
    "process_time_desc = end_time2 - start_time2\n",
    "\n"
   ]
  },
  {
   "cell_type": "markdown",
   "metadata": {},
   "source": [
    "## Ploting"
   ]
  },
  {
   "cell_type": "code",
   "execution_count": 6,
   "metadata": {},
   "outputs": [
    {
     "data": {
      "image/png": "[encoded data removed]",
      "text/plain": [
       "<Figure size 432x288 with 1 Axes>"
      ]
     },
     "metadata": {
      "needs_background": "light"
     },
     "output_type": "display_data"
    }
   ],
   "source": [
    "import matplotlib.pyplot as plt\n",
    "import numpy as np\n",
    "\n",
    "x = np.arange(3)\n",
    "\n",
    "\n",
    "values = [process_time_asc,process_time_rdm, process_time_desc]\n",
    "\n",
    "plt.bar(x, values,color = ['r', 'g', 'b'])\n",
    "\n",
    "xticks = ['asc', 'rdm', 'desc']\n",
    "plt.xticks(x, xticks)\n",
    "\n",
    "plt.xlabel('Data')\n",
    "plt.ylabel('Time')\n",
    "plt.yscale('log')\n",
    "\n",
    "plt.title('Comparison of execution time', fontsize=15)\n",
    "\n",
    "plt.show()"
   ]
  },
  {
   "cell_type": "markdown",
   "metadata": {},
   "source": [
    "## Result\n",
    "\n",
    "- **역 정렬 데이터, 랜덤 정렬된 데이터, 정렬된 데이터 순으로 빠르게 정렬 되었습니다.**\n"
   ]
  },
  {
   "cell_type": "markdown",
   "metadata": {},
   "source": [
    "## Selection Sort Applications\n",
    "\n",
    "The selection sort is used when\n",
    "\n",
    "- a small list is to be sorted\n",
    "\n",
    "\n",
    "- cost of swapping does not matter\n",
    "\n",
    "\n",
    "- checking of all the elements is compulsory\n",
    "\n",
    "\n",
    "- cost of writing to a memory matters like in flash memory (number of writes/swaps is O(n) as compared to O(n2) of bubble sort)"
   ]
  }
 ],
 "metadata": {
  "hide_input": false,
  "kernelspec": {
   "display_name": "Python 3",
   "language": "python",
   "name": "python3"
  },
  "language_info": {
   "codemirror_mode": {
    "name": "ipython",
    "version": 3
   },
   "file_extension": ".py",
   "mimetype": "text/x-python",
   "name": "python",
   "nbconvert_exporter": "python",
   "pygments_lexer": "ipython3",
   "version": "3.8.5"
  },
  "toc": {
   "base_numbering": 1,
   "nav_menu": {},
   "number_sections": true,
   "sideBar": true,
   "skip_h1_title": false,
   "title_cell": "Table of Contents",
   "title_sidebar": "Contents",
   "toc_cell": false,
   "toc_position": {},
   "toc_section_display": true,
   "toc_window_display": false
  }
 },
 "nbformat": 4,
 "nbformat_minor": 4
}
